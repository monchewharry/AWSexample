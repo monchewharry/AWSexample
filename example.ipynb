{
 "cells": [
  {
   "cell_type": "code",
   "execution_count": 1,
   "id": "18fa41d7-d597-45ae-9cd6-6e3427f649a8",
   "metadata": {
    "tags": []
   },
   "outputs": [
    {
     "data": {
      "text/plain": [
       "'/home/ec2-user/SageMaker/AWSexample'"
      ]
     },
     "execution_count": 1,
     "metadata": {},
     "output_type": "execute_result"
    }
   ],
   "source": [
    "\"\"\"\n",
    "https://docs.aws.amazon.com/sagemaker/latest/dg/ex1-train-model.html\n",
    "\"\"\"\n",
    "import os\n",
    "os.getcwd()"
   ]
  },
  {
   "cell_type": "code",
   "execution_count": 2,
   "id": "49feaeff-2dc4-48e8-b906-a046df67509b",
   "metadata": {
    "tags": []
   },
   "outputs": [
    {
     "name": "stdout",
     "output_type": "stream",
     "text": [
      "sagemaker.config INFO - Not applying SDK defaults from location: /etc/xdg/sagemaker/config.yaml\n",
      "sagemaker.config INFO - Not applying SDK defaults from location: /home/ec2-user/.config/sagemaker/config.yaml\n"
     ]
    }
   ],
   "source": [
    "import sagemaker\n",
    "import boto3\n",
    "from sagemaker.amazon.amazon_estimator import get_image_uri\n",
    "from sagemaker.session import s3_input, Session"
   ]
  },
  {
   "cell_type": "markdown",
   "id": "cf8517c4-b6d7-4dda-bfa8-5bffc6609003",
   "metadata": {},
   "source": [
    "## create s3 bucket\n",
    "here we create a specific bucket \"examplecaodata\", or we could use the default bucket `bucket = sagemaker.Session().default_bucket()`."
   ]
  },
  {
   "cell_type": "code",
   "execution_count": 11,
   "id": "79641a7b-d25e-40d7-8523-89c0d24fea59",
   "metadata": {
    "tags": []
   },
   "outputs": [
    {
     "name": "stdout",
     "output_type": "stream",
     "text": [
      "AWS Region: us-east-2\n",
      "RoleArn: arn:aws:iam::339712797173:role/service-role/AmazonSageMaker-ExecutionRole-20240618T005267\n"
     ]
    }
   ],
   "source": [
    "bucket_name = \"examplecaodata\"\n",
    "myregion=sagemaker.Session().boto_region_name\n",
    "role = sagemaker.get_execution_role()\n",
    "print(\"AWS Region: {}\".format(myregion),\"RoleArn: {}\".format(role), sep=\"\\n\")"
   ]
  },
  {
   "cell_type": "code",
   "execution_count": 6,
   "id": "1a9b0fd4",
   "metadata": {},
   "outputs": [],
   "source": [
    "#!aws s3 mb s3://examplecaodata --region {myregion}"
   ]
  },
  {
   "cell_type": "code",
   "execution_count": 5,
   "id": "28464849-fa6d-47a0-9a0b-a629ccb18ebe",
   "metadata": {
    "tags": []
   },
   "outputs": [
    {
     "name": "stdout",
     "output_type": "stream",
     "text": [
      "error: An error occurred (BucketAlreadyOwnedByYou) when calling the CreateBucket operation: Your previous request to create the named bucket succeeded and you already own it.\n"
     ]
    }
   ],
   "source": [
    "# create s3 bucket data folder\n",
    "s3 = boto3.resource('s3')\n",
    "try:\n",
    "    if myregion==\"us-east-2\":\n",
    "        s3.create_bucket(Bucket=bucket_name, CreateBucketConfiguration={'LocationConstraint': myregion})\n",
    "    print(\"S3 bucket created!\")\n",
    "except Exception as e:\n",
    "    print(\"error:\",e)"
   ]
  },
  {
   "cell_type": "code",
   "execution_count": 24,
   "id": "9aa0450e",
   "metadata": {},
   "outputs": [
    {
     "name": "stdout",
     "output_type": "stream",
     "text": [
      "s3://examplecaodata/xgboost-as-a-built-in-algo/output\n"
     ]
    }
   ],
   "source": [
    "# output path\n",
    "prefix=\"xgboost-as-a-built-in-algo\"\n",
    "output_path=f\"s3://{bucket_name}/{prefix}/output\"\n",
    "print(output_path)"
   ]
  },
  {
   "cell_type": "markdown",
   "id": "a2b4993b-ac18-4edc-8ef8-a7481032b25a",
   "metadata": {},
   "source": [
    "## load data"
   ]
  },
  {
   "cell_type": "code",
   "execution_count": 8,
   "id": "d4c0d9b2",
   "metadata": {},
   "outputs": [
    {
     "data": {
      "text/html": [
       "<div>\n",
       "<style scoped>\n",
       "    .dataframe tbody tr th:only-of-type {\n",
       "        vertical-align: middle;\n",
       "    }\n",
       "\n",
       "    .dataframe tbody tr th {\n",
       "        vertical-align: top;\n",
       "    }\n",
       "\n",
       "    .dataframe thead th {\n",
       "        text-align: right;\n",
       "    }\n",
       "</style>\n",
       "<table border=\"1\" class=\"dataframe\">\n",
       "  <thead>\n",
       "    <tr style=\"text-align: right;\">\n",
       "      <th></th>\n",
       "      <th>age</th>\n",
       "      <th>campaign</th>\n",
       "      <th>pdays</th>\n",
       "      <th>previous</th>\n",
       "      <th>no_previous_contact</th>\n",
       "      <th>not_working</th>\n",
       "      <th>job_admin.</th>\n",
       "      <th>job_blue-collar</th>\n",
       "      <th>job_entrepreneur</th>\n",
       "      <th>job_housemaid</th>\n",
       "      <th>...</th>\n",
       "      <th>day_of_week_fri</th>\n",
       "      <th>day_of_week_mon</th>\n",
       "      <th>day_of_week_thu</th>\n",
       "      <th>day_of_week_tue</th>\n",
       "      <th>day_of_week_wed</th>\n",
       "      <th>poutcome_failure</th>\n",
       "      <th>poutcome_nonexistent</th>\n",
       "      <th>poutcome_success</th>\n",
       "      <th>y_no</th>\n",
       "      <th>y_yes</th>\n",
       "    </tr>\n",
       "  </thead>\n",
       "  <tbody>\n",
       "    <tr>\n",
       "      <th>0</th>\n",
       "      <td>56</td>\n",
       "      <td>1</td>\n",
       "      <td>999</td>\n",
       "      <td>0</td>\n",
       "      <td>1</td>\n",
       "      <td>0</td>\n",
       "      <td>0</td>\n",
       "      <td>0</td>\n",
       "      <td>0</td>\n",
       "      <td>1</td>\n",
       "      <td>...</td>\n",
       "      <td>0</td>\n",
       "      <td>1</td>\n",
       "      <td>0</td>\n",
       "      <td>0</td>\n",
       "      <td>0</td>\n",
       "      <td>0</td>\n",
       "      <td>1</td>\n",
       "      <td>0</td>\n",
       "      <td>1</td>\n",
       "      <td>0</td>\n",
       "    </tr>\n",
       "    <tr>\n",
       "      <th>1</th>\n",
       "      <td>57</td>\n",
       "      <td>1</td>\n",
       "      <td>999</td>\n",
       "      <td>0</td>\n",
       "      <td>1</td>\n",
       "      <td>0</td>\n",
       "      <td>0</td>\n",
       "      <td>0</td>\n",
       "      <td>0</td>\n",
       "      <td>0</td>\n",
       "      <td>...</td>\n",
       "      <td>0</td>\n",
       "      <td>1</td>\n",
       "      <td>0</td>\n",
       "      <td>0</td>\n",
       "      <td>0</td>\n",
       "      <td>0</td>\n",
       "      <td>1</td>\n",
       "      <td>0</td>\n",
       "      <td>1</td>\n",
       "      <td>0</td>\n",
       "    </tr>\n",
       "    <tr>\n",
       "      <th>2</th>\n",
       "      <td>37</td>\n",
       "      <td>1</td>\n",
       "      <td>999</td>\n",
       "      <td>0</td>\n",
       "      <td>1</td>\n",
       "      <td>0</td>\n",
       "      <td>0</td>\n",
       "      <td>0</td>\n",
       "      <td>0</td>\n",
       "      <td>0</td>\n",
       "      <td>...</td>\n",
       "      <td>0</td>\n",
       "      <td>1</td>\n",
       "      <td>0</td>\n",
       "      <td>0</td>\n",
       "      <td>0</td>\n",
       "      <td>0</td>\n",
       "      <td>1</td>\n",
       "      <td>0</td>\n",
       "      <td>1</td>\n",
       "      <td>0</td>\n",
       "    </tr>\n",
       "    <tr>\n",
       "      <th>3</th>\n",
       "      <td>40</td>\n",
       "      <td>1</td>\n",
       "      <td>999</td>\n",
       "      <td>0</td>\n",
       "      <td>1</td>\n",
       "      <td>0</td>\n",
       "      <td>1</td>\n",
       "      <td>0</td>\n",
       "      <td>0</td>\n",
       "      <td>0</td>\n",
       "      <td>...</td>\n",
       "      <td>0</td>\n",
       "      <td>1</td>\n",
       "      <td>0</td>\n",
       "      <td>0</td>\n",
       "      <td>0</td>\n",
       "      <td>0</td>\n",
       "      <td>1</td>\n",
       "      <td>0</td>\n",
       "      <td>1</td>\n",
       "      <td>0</td>\n",
       "    </tr>\n",
       "    <tr>\n",
       "      <th>4</th>\n",
       "      <td>56</td>\n",
       "      <td>1</td>\n",
       "      <td>999</td>\n",
       "      <td>0</td>\n",
       "      <td>1</td>\n",
       "      <td>0</td>\n",
       "      <td>0</td>\n",
       "      <td>0</td>\n",
       "      <td>0</td>\n",
       "      <td>0</td>\n",
       "      <td>...</td>\n",
       "      <td>0</td>\n",
       "      <td>1</td>\n",
       "      <td>0</td>\n",
       "      <td>0</td>\n",
       "      <td>0</td>\n",
       "      <td>0</td>\n",
       "      <td>1</td>\n",
       "      <td>0</td>\n",
       "      <td>1</td>\n",
       "      <td>0</td>\n",
       "    </tr>\n",
       "  </tbody>\n",
       "</table>\n",
       "<p>5 rows × 61 columns</p>\n",
       "</div>"
      ],
      "text/plain": [
       "   age  campaign  pdays  previous  no_previous_contact  not_working  \\\n",
       "0   56         1    999         0                    1            0   \n",
       "1   57         1    999         0                    1            0   \n",
       "2   37         1    999         0                    1            0   \n",
       "3   40         1    999         0                    1            0   \n",
       "4   56         1    999         0                    1            0   \n",
       "\n",
       "   job_admin.  job_blue-collar  job_entrepreneur  job_housemaid  ...  \\\n",
       "0           0                0                 0              1  ...   \n",
       "1           0                0                 0              0  ...   \n",
       "2           0                0                 0              0  ...   \n",
       "3           1                0                 0              0  ...   \n",
       "4           0                0                 0              0  ...   \n",
       "\n",
       "   day_of_week_fri  day_of_week_mon  day_of_week_thu  day_of_week_tue  \\\n",
       "0                0                1                0                0   \n",
       "1                0                1                0                0   \n",
       "2                0                1                0                0   \n",
       "3                0                1                0                0   \n",
       "4                0                1                0                0   \n",
       "\n",
       "   day_of_week_wed  poutcome_failure  poutcome_nonexistent  poutcome_success  \\\n",
       "0                0                 0                     1                 0   \n",
       "1                0                 0                     1                 0   \n",
       "2                0                 0                     1                 0   \n",
       "3                0                 0                     1                 0   \n",
       "4                0                 0                     1                 0   \n",
       "\n",
       "   y_no  y_yes  \n",
       "0     1      0  \n",
       "1     1      0  \n",
       "2     1      0  \n",
       "3     1      0  \n",
       "4     1      0  \n",
       "\n",
       "[5 rows x 61 columns]"
      ]
     },
     "execution_count": 8,
     "metadata": {},
     "output_type": "execute_result"
    }
   ],
   "source": [
    "import pandas as pd\n",
    "import urllib\n",
    "data_url = \"https://d1.awsstatic.com/tmt/build-train-deploy-machine-learning-model-sagemaker/bank_clean.27f01fbbdf43271788427f3682996ae29ceca05d.csv\"\n",
    "try:\n",
    "    urllib.request.urlretrieve(data_url, \"bank_clean.csv\")\n",
    "except Exception as e:\n",
    "    print(\"data load error:\",e)\n",
    "\n",
    "model_data = pd.read_csv(\"./bank_clean.csv\",index_col=0)\n",
    "model_data.head()"
   ]
  },
  {
   "cell_type": "markdown",
   "id": "22d87f7c-a9e8-4d3d-af56-17b2d8a6fe81",
   "metadata": {},
   "source": [
    "## data split\n",
    "here we simplify the test dataset as both validation set and OOT set..."
   ]
  },
  {
   "cell_type": "code",
   "execution_count": 14,
   "id": "d57d1122-61e0-4504-a990-037ec4ef50ca",
   "metadata": {},
   "outputs": [
    {
     "data": {
      "text/plain": [
       "(28831, 12357)"
      ]
     },
     "execution_count": 14,
     "metadata": {},
     "output_type": "execute_result"
    }
   ],
   "source": [
    "from sklearn.model_selection import train_test_split\n",
    "data = model_data.drop(['y_no', 'y_yes'], axis=\"columns\")\n",
    "labels = model_data['y_yes']\n",
    "data_train, data_test, labels_train, labels_test = train_test_split(data, labels, test_size=0.30, random_state=1729)\n",
    "\n",
    "len(data_train),len(data_test)"
   ]
  },
  {
   "cell_type": "code",
   "execution_count": 18,
   "id": "c11c3702-64b6-4ae9-8ebb-376555bf84a0",
   "metadata": {
    "tags": []
   },
   "outputs": [],
   "source": [
    "# re-build train,test dataset and save to csv\n",
    "pd.concat([labels_train,data_train], axis=1).to_csv('train.csv', index=False, header=False)\n",
    "pd.concat([labels_test,data_test], axis=1).to_csv('test.csv', index=False, header=False)"
   ]
  },
  {
   "cell_type": "markdown",
   "id": "9f670936-fd59-4c3e-b235-cd2956b9fa27",
   "metadata": {},
   "source": [
    "## mapping train/test data to S3 Bucket"
   ]
  },
  {
   "cell_type": "code",
   "execution_count": 20,
   "id": "82a67f9b-3767-48d2-b303-4c9450ca15e9",
   "metadata": {
    "tags": []
   },
   "outputs": [],
   "source": [
    "# upload data into s3 buckets\n",
    "# declare the data path\n",
    "\n",
    "boto3.Session().resource('s3').Bucket(bucket_name).Object(os.path.join(prefix, 'train/train.csv')).upload_file('train.csv')\n",
    "s3_input_train = sagemaker.TrainingInput(s3_data='s3://{}/{}/train'.format(bucket_name, prefix), content_type='csv')\n",
    "\n",
    "boto3.Session().resource('s3').Bucket(bucket_name).Object(os.path.join(prefix, 'test/test.csv')).upload_file('test.csv')\n",
    "s3_input_test = sagemaker.TrainingInput(s3_data='s3://{}/{}/test'.format(bucket_name, prefix), content_type='csv')"
   ]
  },
  {
   "cell_type": "code",
   "execution_count": 22,
   "id": "17ecba74-34fa-4985-87cb-aae0719c6c79",
   "metadata": {
    "tags": []
   },
   "outputs": [
    {
     "name": "stdout",
     "output_type": "stream",
     "text": [
      "2024-06-18 21:38:53    1519426 xgboost-as-a-built-in-algo/test/test.csv\n",
      "2024-06-18 21:38:53    3545018 xgboost-as-a-built-in-algo/train/train.csv\n"
     ]
    }
   ],
   "source": [
    "! aws s3 ls {bucket_name}/{prefix}/ --recursive"
   ]
  },
  {
   "cell_type": "markdown",
   "id": "939c8e9d-8047-496b-9eb2-a4a7eb6d1ce9",
   "metadata": {},
   "source": [
    "## train in-built xgboost model"
   ]
  },
  {
   "cell_type": "code",
   "execution_count": 19,
   "id": "4b5de499-af30-4c1f-8f23-c2e61aa9a798",
   "metadata": {
    "tags": []
   },
   "outputs": [
    {
     "name": "stderr",
     "output_type": "stream",
     "text": [
      "The method get_image_uri has been renamed in sagemaker>=2.\n",
      "See: https://sagemaker.readthedocs.io/en/stable/v2.html for details.\n"
     ]
    }
   ],
   "source": [
    "# this line automatically looks for the XGBoost image URI and builds an XGBoost container.\n",
    "# specify the repo_version depending on your preference.\n",
    "#container = sagemaker.image_uris.retrieve(\"xgboost\", myregion, \"latest\")\n",
    "container = get_image_uri(region_name = boto3.Session().region_name,\n",
    "                          repo_name = 'xgboost', \n",
    "                          repo_version='latest')"
   ]
  },
  {
   "cell_type": "code",
   "execution_count": 20,
   "id": "5a42dc81-1f6c-485e-ab56-3f4d0a38e8de",
   "metadata": {
    "tags": []
   },
   "outputs": [
    {
     "name": "stdout",
     "output_type": "stream",
     "text": [
      "825641698319.dkr.ecr.us-east-2.amazonaws.com/xgboost:latest\n"
     ]
    }
   ],
   "source": [
    "print(container)"
   ]
  },
  {
   "cell_type": "code",
   "execution_count": 22,
   "id": "3dad073d-36ec-450a-86b7-a02518e06206",
   "metadata": {
    "tags": []
   },
   "outputs": [],
   "source": [
    "hyperparameters = {\n",
    "        \"max_depth\":\"5\",\n",
    "        \"eta\":\"0.2\",\n",
    "        \"gamma\":\"4\",\n",
    "        \"min_child_weight\":\"6\",\n",
    "        \"subsample\":\"0.8\",\n",
    "        \"objective\":\"binary:logistic\",\n",
    "        \"num_round\":50\n",
    "        }"
   ]
  },
  {
   "cell_type": "code",
   "execution_count": 25,
   "id": "f3ad4680-b0e9-4aa7-9a35-3f383b36b212",
   "metadata": {
    "tags": []
   },
   "outputs": [],
   "source": [
    "# construct a SageMaker estimator that calls the xgboost-container\n",
    "estimator = sagemaker.estimator.Estimator(image_uri=container, \n",
    "                                          hyperparameters=hyperparameters,\n",
    "                                          role=role,\n",
    "                                          instance_count=1, \n",
    "                                          instance_type='ml.m5.2xlarge', #Type of EC2 instance to use for training\n",
    "                                          volume_size=5, # 5 GB \n",
    "                                          output_path=output_path,\n",
    "                                          use_spot_instances=True,\n",
    "                                          max_run=300,\n",
    "                                          max_wait=600)"
   ]
  },
  {
   "cell_type": "code",
   "execution_count": 28,
   "id": "c999f4fd-892b-40c0-b77f-28b2985c52e9",
   "metadata": {
    "tags": []
   },
   "outputs": [
    {
     "name": "stderr",
     "output_type": "stream",
     "text": [
      "INFO:sagemaker:Creating training-job with name: xgboost-2024-06-18-22-09-30-909\n"
     ]
    },
    {
     "name": "stdout",
     "output_type": "stream",
     "text": [
      "2024-06-18 22:09:31 Starting - Starting the training job...\n",
      "2024-06-18 22:09:44 Starting - Preparing the instances for training...\n",
      "2024-06-18 22:10:30 Downloading - Downloading the training image......\n",
      "2024-06-18 22:11:31 Training - Training image download completed. Training in progress.\n",
      "2024-06-18 22:11:31 Uploading - Uploading generated training model\u001b[34mArguments: train\u001b[0m\n",
      "\u001b[34m[2024-06-18:22:11:24:INFO] Running standalone xgboost training.\u001b[0m\n",
      "\u001b[34m[2024-06-18:22:11:24:INFO] File size need to be processed in the node: 4.83mb. Available memory size in the node: 23884.43mb\u001b[0m\n",
      "\u001b[34m[2024-06-18:22:11:24:INFO] Determined delimiter of CSV input is ','\u001b[0m\n",
      "\u001b[34m[22:11:24] S3DistributionType set as FullyReplicated\u001b[0m\n",
      "\u001b[34m[22:11:24] 28831x59 matrix with 1701029 entries loaded from /opt/ml/input/data/train?format=csv&label_column=0&delimiter=,\u001b[0m\n",
      "\u001b[34m[2024-06-18:22:11:24:INFO] Determined delimiter of CSV input is ','\u001b[0m\n",
      "\u001b[34m[22:11:24] S3DistributionType set as FullyReplicated\u001b[0m\n",
      "\u001b[34m[22:11:24] 12357x59 matrix with 729063 entries loaded from /opt/ml/input/data/validation?format=csv&label_column=0&delimiter=,\u001b[0m\n",
      "\u001b[34m[22:11:24] src/tree/updater_prune.cc:74: tree pruning end, 1 roots, 28 extra nodes, 14 pruned nodes, max_depth=5\u001b[0m\n",
      "\u001b[34m[0]#011train-error:0.103014#011validation-error:0.104556\u001b[0m\n",
      "\u001b[34m[22:11:24] src/tree/updater_prune.cc:74: tree pruning end, 1 roots, 26 extra nodes, 12 pruned nodes, max_depth=5\u001b[0m\n",
      "\u001b[34m[1]#011train-error:0.102424#011validation-error:0.098729\u001b[0m\n",
      "\u001b[34m[22:11:24] src/tree/updater_prune.cc:74: tree pruning end, 1 roots, 32 extra nodes, 12 pruned nodes, max_depth=5\u001b[0m\n",
      "\u001b[34m[2]#011train-error:0.102043#011validation-error:0.098487\u001b[0m\n",
      "\u001b[34m[22:11:24] src/tree/updater_prune.cc:74: tree pruning end, 1 roots, 34 extra nodes, 14 pruned nodes, max_depth=5\u001b[0m\n",
      "\u001b[34m[3]#011train-error:0.102078#011validation-error:0.097354\u001b[0m\n",
      "\u001b[34m[22:11:24] src/tree/updater_prune.cc:74: tree pruning end, 1 roots, 28 extra nodes, 14 pruned nodes, max_depth=5\u001b[0m\n",
      "\u001b[34m[4]#011train-error:0.102182#011validation-error:0.098082\u001b[0m\n",
      "\u001b[34m[22:11:24] src/tree/updater_prune.cc:74: tree pruning end, 1 roots, 28 extra nodes, 12 pruned nodes, max_depth=5\u001b[0m\n",
      "\u001b[34m[5]#011train-error:0.102424#011validation-error:0.09792\u001b[0m\n",
      "\u001b[34m[22:11:24] src/tree/updater_prune.cc:74: tree pruning end, 1 roots, 22 extra nodes, 20 pruned nodes, max_depth=5\u001b[0m\n",
      "\u001b[34m[6]#011train-error:0.102633#011validation-error:0.098001\u001b[0m\n",
      "\u001b[34m[22:11:24] src/tree/updater_prune.cc:74: tree pruning end, 1 roots, 30 extra nodes, 12 pruned nodes, max_depth=5\u001b[0m\n",
      "\u001b[34m[7]#011train-error:0.102563#011validation-error:0.097354\u001b[0m\n",
      "\u001b[34m[22:11:24] src/tree/updater_prune.cc:74: tree pruning end, 1 roots, 30 extra nodes, 12 pruned nodes, max_depth=5\u001b[0m\n",
      "\u001b[34m[8]#011train-error:0.102286#011validation-error:0.097597\u001b[0m\n",
      "\u001b[34m[22:11:24] src/tree/updater_prune.cc:74: tree pruning end, 1 roots, 26 extra nodes, 18 pruned nodes, max_depth=5\u001b[0m\n",
      "\u001b[34m[9]#011train-error:0.102251#011validation-error:0.097516\u001b[0m\n",
      "\u001b[34m[22:11:24] src/tree/updater_prune.cc:74: tree pruning end, 1 roots, 30 extra nodes, 20 pruned nodes, max_depth=5\u001b[0m\n",
      "\u001b[34m[10]#011train-error:0.1018#011validation-error:0.097516\u001b[0m\n",
      "\u001b[34m[22:11:24] src/tree/updater_prune.cc:74: tree pruning end, 1 roots, 26 extra nodes, 22 pruned nodes, max_depth=5\u001b[0m\n",
      "\u001b[34m[11]#011train-error:0.101592#011validation-error:0.098163\u001b[0m\n",
      "\u001b[34m[22:11:24] src/tree/updater_prune.cc:74: tree pruning end, 1 roots, 28 extra nodes, 22 pruned nodes, max_depth=5\u001b[0m\n",
      "\u001b[34m[12]#011train-error:0.101211#011validation-error:0.097677\u001b[0m\n",
      "\u001b[34m[22:11:24] src/tree/updater_prune.cc:74: tree pruning end, 1 roots, 28 extra nodes, 22 pruned nodes, max_depth=5\u001b[0m\n",
      "\u001b[34m[13]#011train-error:0.101211#011validation-error:0.097758\u001b[0m\n",
      "\u001b[34m[22:11:24] src/tree/updater_prune.cc:74: tree pruning end, 1 roots, 26 extra nodes, 24 pruned nodes, max_depth=5\u001b[0m\n",
      "\u001b[34m[14]#011train-error:0.101245#011validation-error:0.098568\u001b[0m\n",
      "\u001b[34m[22:11:24] src/tree/updater_prune.cc:74: tree pruning end, 1 roots, 24 extra nodes, 10 pruned nodes, max_depth=5\u001b[0m\n",
      "\u001b[34m[15]#011train-error:0.101315#011validation-error:0.09792\u001b[0m\n",
      "\u001b[34m[22:11:24] src/tree/updater_prune.cc:74: tree pruning end, 1 roots, 36 extra nodes, 6 pruned nodes, max_depth=5\u001b[0m\n",
      "\u001b[34m[16]#011train-error:0.101245#011validation-error:0.098325\u001b[0m\n",
      "\u001b[34m[22:11:24] src/tree/updater_prune.cc:74: tree pruning end, 1 roots, 40 extra nodes, 12 pruned nodes, max_depth=5\u001b[0m\n",
      "\u001b[34m[17]#011train-error:0.100933#011validation-error:0.098325\u001b[0m\n",
      "\u001b[34m[22:11:24] src/tree/updater_prune.cc:74: tree pruning end, 1 roots, 30 extra nodes, 10 pruned nodes, max_depth=5\u001b[0m\n",
      "\u001b[34m[18]#011train-error:0.100864#011validation-error:0.098244\u001b[0m\n",
      "\u001b[34m[22:11:24] src/tree/updater_prune.cc:74: tree pruning end, 1 roots, 32 extra nodes, 22 pruned nodes, max_depth=5\u001b[0m\n",
      "\u001b[34m[19]#011train-error:0.101106#011validation-error:0.098406\u001b[0m\n",
      "\u001b[34m[22:11:24] src/tree/updater_prune.cc:74: tree pruning end, 1 roots, 20 extra nodes, 30 pruned nodes, max_depth=5\u001b[0m\n",
      "\u001b[34m[20]#011train-error:0.101002#011validation-error:0.098406\u001b[0m\n",
      "\u001b[34m[22:11:24] src/tree/updater_prune.cc:74: tree pruning end, 1 roots, 32 extra nodes, 14 pruned nodes, max_depth=5\u001b[0m\n",
      "\u001b[34m[21]#011train-error:0.100551#011validation-error:0.098729\u001b[0m\n",
      "\u001b[34m[22:11:24] src/tree/updater_prune.cc:74: tree pruning end, 1 roots, 36 extra nodes, 18 pruned nodes, max_depth=5\u001b[0m\n",
      "\u001b[34m[22]#011train-error:0.100725#011validation-error:0.098244\u001b[0m\n",
      "\u001b[34m[22:11:24] src/tree/updater_prune.cc:74: tree pruning end, 1 roots, 22 extra nodes, 14 pruned nodes, max_depth=5\u001b[0m\n",
      "\u001b[34m[23]#011train-error:0.100274#011validation-error:0.098082\u001b[0m\n",
      "\u001b[34m[22:11:24] src/tree/updater_prune.cc:74: tree pruning end, 1 roots, 20 extra nodes, 16 pruned nodes, max_depth=5\u001b[0m\n",
      "\u001b[34m[24]#011train-error:0.100066#011validation-error:0.098163\u001b[0m\n",
      "\u001b[34m[22:11:24] src/tree/updater_prune.cc:74: tree pruning end, 1 roots, 26 extra nodes, 18 pruned nodes, max_depth=5\u001b[0m\n",
      "\u001b[34m[25]#011train-error:0.09965#011validation-error:0.098163\u001b[0m\n",
      "\u001b[34m[22:11:24] src/tree/updater_prune.cc:74: tree pruning end, 1 roots, 14 extra nodes, 16 pruned nodes, max_depth=5\u001b[0m\n",
      "\u001b[34m[26]#011train-error:0.099476#011validation-error:0.098001\u001b[0m\n",
      "\u001b[34m[22:11:24] src/tree/updater_prune.cc:74: tree pruning end, 1 roots, 20 extra nodes, 18 pruned nodes, max_depth=5\u001b[0m\n",
      "\u001b[34m[27]#011train-error:0.099754#011validation-error:0.098568\u001b[0m\n",
      "\u001b[34m[22:11:24] src/tree/updater_prune.cc:74: tree pruning end, 1 roots, 24 extra nodes, 26 pruned nodes, max_depth=5\u001b[0m\n",
      "\u001b[34m[28]#011train-error:0.099823#011validation-error:0.098244\u001b[0m\n",
      "\u001b[34m[22:11:24] src/tree/updater_prune.cc:74: tree pruning end, 1 roots, 24 extra nodes, 8 pruned nodes, max_depth=5\u001b[0m\n",
      "\u001b[34m[29]#011train-error:0.099823#011validation-error:0.098325\u001b[0m\n",
      "\u001b[34m[22:11:24] src/tree/updater_prune.cc:74: tree pruning end, 1 roots, 28 extra nodes, 22 pruned nodes, max_depth=5\u001b[0m\n",
      "\u001b[34m[30]#011train-error:0.099372#011validation-error:0.098001\u001b[0m\n",
      "\u001b[34m[22:11:24] src/tree/updater_prune.cc:74: tree pruning end, 1 roots, 24 extra nodes, 16 pruned nodes, max_depth=5\u001b[0m\n",
      "\u001b[34m[31]#011train-error:0.099164#011validation-error:0.097758\u001b[0m\n",
      "\u001b[34m[22:11:24] src/tree/updater_prune.cc:74: tree pruning end, 1 roots, 24 extra nodes, 10 pruned nodes, max_depth=5\u001b[0m\n",
      "\u001b[34m[32]#011train-error:0.098713#011validation-error:0.097839\u001b[0m\n",
      "\u001b[34m[22:11:24] src/tree/updater_prune.cc:74: tree pruning end, 1 roots, 16 extra nodes, 16 pruned nodes, max_depth=5\u001b[0m\n",
      "\u001b[34m[33]#011train-error:0.098713#011validation-error:0.097839\u001b[0m\n",
      "\u001b[34m[22:11:24] src/tree/updater_prune.cc:74: tree pruning end, 1 roots, 14 extra nodes, 14 pruned nodes, max_depth=5\u001b[0m\n",
      "\u001b[34m[34]#011train-error:0.098713#011validation-error:0.098001\u001b[0m\n",
      "\u001b[34m[22:11:24] src/tree/updater_prune.cc:74: tree pruning end, 1 roots, 18 extra nodes, 12 pruned nodes, max_depth=5\u001b[0m\n",
      "\u001b[34m[35]#011train-error:0.098679#011validation-error:0.098001\u001b[0m\n",
      "\u001b[34m[22:11:24] src/tree/updater_prune.cc:74: tree pruning end, 1 roots, 14 extra nodes, 26 pruned nodes, max_depth=5\u001b[0m\n",
      "\u001b[34m[36]#011train-error:0.098609#011validation-error:0.098325\u001b[0m\n",
      "\u001b[34m[22:11:24] src/tree/updater_prune.cc:74: tree pruning end, 1 roots, 8 extra nodes, 20 pruned nodes, max_depth=3\u001b[0m\n",
      "\u001b[34m[37]#011train-error:0.09854#011validation-error:0.098406\u001b[0m\n",
      "\u001b[34m[22:11:24] src/tree/updater_prune.cc:74: tree pruning end, 1 roots, 12 extra nodes, 16 pruned nodes, max_depth=5\u001b[0m\n",
      "\u001b[34m[38]#011train-error:0.098366#011validation-error:0.098406\u001b[0m\n",
      "\u001b[34m[22:11:24] src/tree/updater_prune.cc:74: tree pruning end, 1 roots, 10 extra nodes, 24 pruned nodes, max_depth=4\u001b[0m\n",
      "\u001b[34m[39]#011train-error:0.098505#011validation-error:0.098568\u001b[0m\n",
      "\u001b[34m[22:11:24] src/tree/updater_prune.cc:74: tree pruning end, 1 roots, 22 extra nodes, 24 pruned nodes, max_depth=5\u001b[0m\n",
      "\u001b[34m[40]#011train-error:0.098262#011validation-error:0.098406\u001b[0m\n",
      "\u001b[34m[22:11:24] src/tree/updater_prune.cc:74: tree pruning end, 1 roots, 20 extra nodes, 22 pruned nodes, max_depth=5\u001b[0m\n",
      "\u001b[34m[41]#011train-error:0.098262#011validation-error:0.098649\u001b[0m\n",
      "\u001b[34m[22:11:24] src/tree/updater_prune.cc:74: tree pruning end, 1 roots, 22 extra nodes, 20 pruned nodes, max_depth=5\u001b[0m\n",
      "\u001b[34m[42]#011train-error:0.09854#011validation-error:0.098163\u001b[0m\n",
      "\u001b[34m[22:11:24] src/tree/updater_prune.cc:74: tree pruning end, 1 roots, 16 extra nodes, 16 pruned nodes, max_depth=5\u001b[0m\n",
      "\u001b[34m[43]#011train-error:0.098366#011validation-error:0.098325\u001b[0m\n",
      "\u001b[34m[22:11:24] src/tree/updater_prune.cc:74: tree pruning end, 1 roots, 16 extra nodes, 18 pruned nodes, max_depth=5\u001b[0m\n",
      "\u001b[34m[44]#011train-error:0.098436#011validation-error:0.098406\u001b[0m\n",
      "\u001b[34m[22:11:24] src/tree/updater_prune.cc:74: tree pruning end, 1 roots, 16 extra nodes, 12 pruned nodes, max_depth=5\u001b[0m\n",
      "\u001b[34m[45]#011train-error:0.098574#011validation-error:0.098568\u001b[0m\n",
      "\u001b[34m[22:11:24] src/tree/updater_prune.cc:74: tree pruning end, 1 roots, 12 extra nodes, 26 pruned nodes, max_depth=4\u001b[0m\n",
      "\u001b[34m[46]#011train-error:0.098609#011validation-error:0.098729\u001b[0m\n",
      "\u001b[34m[22:11:25] src/tree/updater_prune.cc:74: tree pruning end, 1 roots, 16 extra nodes, 12 pruned nodes, max_depth=5\u001b[0m\n",
      "\u001b[34m[47]#011train-error:0.098505#011validation-error:0.098891\u001b[0m\n",
      "\u001b[34m[22:11:25] src/tree/updater_prune.cc:74: tree pruning end, 1 roots, 28 extra nodes, 14 pruned nodes, max_depth=5\u001b[0m\n",
      "\u001b[34m[48]#011train-error:0.09847#011validation-error:0.099053\u001b[0m\n",
      "\u001b[34m[22:11:25] src/tree/updater_prune.cc:74: tree pruning end, 1 roots, 8 extra nodes, 28 pruned nodes, max_depth=4\u001b[0m\n",
      "\u001b[34m[49]#011train-error:0.098505#011validation-error:0.099134\u001b[0m\n",
      "\n",
      "2024-06-18 22:11:44 Completed - Training job completed\n",
      "Training seconds: 89\n",
      "Billable seconds: 32\n",
      "Managed Spot Training savings: 64.0%\n"
     ]
    }
   ],
   "source": [
    "estimator.fit({'train': s3_input_train,'validation': s3_input_test})"
   ]
  },
  {
   "cell_type": "markdown",
   "id": "0aad69e5-a1e1-4132-8c01-4ce053798077",
   "metadata": {},
   "source": [
    "## training outputs"
   ]
  },
  {
   "cell_type": "code",
   "execution_count": 39,
   "id": "f8ddb309-778a-4041-840f-f387ce4a31ce",
   "metadata": {
    "tags": []
   },
   "outputs": [
    {
     "name": "stdout",
     "output_type": "stream",
     "text": [
      "2024-06-18 22:11:37      37126 xgboost-as-a-built-in-algo/output/xgboost-2024-06-18-22-09-30-909/output/model.tar.gz\n"
     ]
    }
   ],
   "source": [
    "! aws s3 ls {bucket_name}/{prefix}/output/ --recursive | grep model"
   ]
  },
  {
   "cell_type": "code",
   "execution_count": 26,
   "id": "e11a8934-d506-47c8-bde1-42e20a03f7b6",
   "metadata": {
    "tags": []
   },
   "outputs": [
    {
     "data": {
      "text/plain": [
       "'s3://examplecaodata/xgboost-as-a-built-in-algo/output'"
      ]
     },
     "execution_count": 26,
     "metadata": {},
     "output_type": "execute_result"
    }
   ],
   "source": [
    "estimator.output_path"
   ]
  },
  {
   "cell_type": "code",
   "execution_count": null,
   "id": "d481d831-1eca-4aaf-befa-0024c88f708c",
   "metadata": {},
   "outputs": [],
   "source": [
    "model_result_path = estimator.output_path + \"/\" + estimator.latest_training_job.job_name + \"/output\"\n",
    "! aws s3 ls {model_result_path} --recursive"
   ]
  },
  {
   "cell_type": "code",
   "execution_count": null,
   "id": "730de807-95d3-4994-89e7-d11e9c501782",
   "metadata": {},
   "outputs": [],
   "source": [
    "#Download the Debugger XGBoost training and profiling reports to the current workspace\n",
    "! aws s3 cp {model_result_path} ./ --recursive"
   ]
  },
  {
   "cell_type": "code",
   "execution_count": null,
   "id": "b74c7f11-2c03-4d0d-a244-a3b78e7a2876",
   "metadata": {},
   "outputs": [],
   "source": [
    "#find the location of the model artifact\n",
    "estimator.model_data"
   ]
  },
  {
   "cell_type": "markdown",
   "id": "a1e97e2a-1ec9-435b-a2e0-8e70e66070a0",
   "metadata": {
    "tags": []
   },
   "source": [
    "## Deploy Machine leanring Model as Endpoints\n",
    "\n",
    "The deploy method creates a deployable model, configures the SageMaker hosting services endpoint, and launches the endpoint to host the model.\n",
    "\n",
    "Instead of hosting an endpoint in production, you can run a one-time batch inference job to make predictions on a test dataset using the SageMaker batch transform. [Make Prediction with Batch Transform](https://docs.aws.amazon.com/sagemaker/latest/dg/ex1-model-deployment.html#ex1-batch-transform)"
   ]
  },
  {
   "cell_type": "code",
   "execution_count": 50,
   "id": "5fa58b7e-2ec6-41a7-9f7b-19440298484d",
   "metadata": {
    "tags": []
   },
   "outputs": [
    {
     "name": "stderr",
     "output_type": "stream",
     "text": [
      "INFO:sagemaker:Creating model with name: xgboost-2024-06-18-22-38-08-230\n",
      "INFO:sagemaker:Creating endpoint-config with name xgboost-2024-06-18-22-38-08-230\n",
      "INFO:sagemaker:Creating endpoint with name xgboost-2024-06-18-22-38-08-230\n"
     ]
    },
    {
     "name": "stdout",
     "output_type": "stream",
     "text": [
      "------!"
     ]
    }
   ],
   "source": [
    "from sagemaker.serializers import CSVSerializer\n",
    "#Serialize input data of various formats (a NumPy array, list, file, or buffer) to a CSV-formatted string. \n",
    "#We use this because the XGBoost algorithm accepts input files in CSV format.\n",
    "\n",
    "xgb_predictor = estimator.deploy(initial_instance_count=1,\n",
    "                                 instance_type='ml.m4.xlarge',\n",
    "                                 serializer=CSVSerializer())"
   ]
  },
  {
   "cell_type": "markdown",
   "id": "6df7f03b-3cfd-4cfa-a2e5-4dc1e1e991d4",
   "metadata": {},
   "source": [
    "## Prediction\n",
    "\n",
    "endpoint receive the data through a serializer.\n"
   ]
  },
  {
   "cell_type": "code",
   "execution_count": 53,
   "id": "d586c538-d655-4410-9ce7-04bb200a07b0",
   "metadata": {
    "tags": []
   },
   "outputs": [
    {
     "name": "stdout",
     "output_type": "stream",
     "text": [
      "(12357,)\n"
     ]
    }
   ],
   "source": [
    "import numpy as np\n",
    "test_data_array = data_test.to_numpy() #load the data into an array\n",
    "xgb_predictor.content_type = 'text/csv' # set the data type for an inference\n",
    "\n",
    "predictions = xgb_predictor.predict(test_data_array).decode('utf-8') # predict!\n",
    "predictions_array = np.fromstring(predictions[1:], sep=',')\n",
    "print(predictions_array.shape)"
   ]
  },
  {
   "cell_type": "code",
   "execution_count": 55,
   "id": "41d16549-f8c1-4807-9fdf-f23435787d75",
   "metadata": {
    "tags": []
   },
   "outputs": [
    {
     "data": {
      "text/plain": [
       "'xgboost-2024-06-18-22-38-08-230'"
      ]
     },
     "execution_count": 55,
     "metadata": {},
     "output_type": "execute_result"
    }
   ],
   "source": [
    "xgb_predictor.endpoint_name"
   ]
  },
  {
   "cell_type": "markdown",
   "id": "68c6e2c7-ca20-40b6-b22e-f122e06012a7",
   "metadata": {},
   "source": [
    "## Evaluation"
   ]
  },
  {
   "cell_type": "code",
   "execution_count": 64,
   "id": "7d762b2a-d15e-4184-8038-1c6648721c49",
   "metadata": {
    "tags": []
   },
   "outputs": [
    {
     "name": "stdout",
     "output_type": "stream",
     "text": [
      "[[10831   201]\n",
      " [ 1024   301]]\n",
      "              precision    recall  f1-score   support\n",
      "\n",
      "           0       0.91      0.98      0.95     11032\n",
      "           1       0.60      0.23      0.33      1325\n",
      "\n",
      "    accuracy                           0.90     12357\n",
      "   macro avg       0.76      0.60      0.64     12357\n",
      "weighted avg       0.88      0.90      0.88     12357\n",
      "\n"
     ]
    }
   ],
   "source": [
    "import sklearn\n",
    "\n",
    "# confusion matrix\n",
    "cutoff=0.5\n",
    "print(sklearn.metrics.confusion_matrix(labels_test, np.where(predictions_array > cutoff, 1, 0)))\n",
    "\n",
    "print(sklearn.metrics.classification_report(labels_test, np.where(predictions_array > cutoff, 1, 0)))"
   ]
  },
  {
   "cell_type": "markdown",
   "id": "89c079ef-754a-428f-9d9b-76ad8d140b67",
   "metadata": {},
   "source": [
    "## Clean up"
   ]
  },
  {
   "cell_type": "code",
   "execution_count": 63,
   "id": "f0f02af2-54c4-4ac8-bfe3-2e44de0b6c0f",
   "metadata": {
    "tags": []
   },
   "outputs": [
    {
     "name": "stderr",
     "output_type": "stream",
     "text": [
      "WARNING:sagemaker.deprecations:The endpoint attribute has been renamed in sagemaker>=2.\n",
      "See: https://sagemaker.readthedocs.io/en/stable/v2.html for details.\n",
      "INFO:sagemaker:Deleting endpoint with name: xgboost-2024-06-18-22-38-08-230\n"
     ]
    },
    {
     "data": {
      "text/plain": [
       "[{'ResponseMetadata': {'RequestId': 'JGECMETN2H5EHTD9',\n",
       "   'HostId': '/KOOzKg1pMFpvPG/dDOaGcvzmx0iYRXPMuiZngC90SmzL4Bg7/N/dtX/FpICfxNzHChchpLwA34nvhQT9ep5WA==',\n",
       "   'HTTPStatusCode': 200,\n",
       "   'HTTPHeaders': {'x-amz-id-2': '/KOOzKg1pMFpvPG/dDOaGcvzmx0iYRXPMuiZngC90SmzL4Bg7/N/dtX/FpICfxNzHChchpLwA34nvhQT9ep5WA==',\n",
       "    'x-amz-request-id': 'JGECMETN2H5EHTD9',\n",
       "    'date': 'Tue, 18 Jun 2024 22:55:07 GMT',\n",
       "    'content-type': 'application/xml',\n",
       "    'transfer-encoding': 'chunked',\n",
       "    'server': 'AmazonS3',\n",
       "    'connection': 'close'},\n",
       "   'RetryAttempts': 0},\n",
       "  'Deleted': [{'Key': 'xgboost-as-a-built-in-algo/output/xgboost-2024-06-18-22-09-30-909/profiler-output/system/incremental/2024061822/1718748600.algo-1.json'},\n",
       "   {'Key': 'xgboost-as-a-built-in-algo/output/xgboost-2024-06-18-22-09-30-909/profiler-output/framework/training_job_end.ts'},\n",
       "   {'Key': 'xgboost-as-a-built-in-algo/train/train.csv'},\n",
       "   {'Key': 'xgboost-as-a-built-in-algo/output/xgboost-2024-06-18-22-09-30-909/profiler-output/system/training_job_end.ts'},\n",
       "   {'Key': 'xgboost-as-a-built-in-algo/test/test.csv'},\n",
       "   {'Key': 'xgboost-as-a-built-in-algo/output/xgboost-2024-06-18-22-09-30-909/debug-output/training_job_end.ts'},\n",
       "   {'Key': 'xgboost-as-a-built-in-algo/output/xgboost-2024-06-18-22-09-30-909/output/model.tar.gz'},\n",
       "   {'Key': 'xgboost-as-a-built-in-algo/output/xgboost-2024-06-18-22-09-30-909/profiler-output/system/incremental/2024061822/1718748660.algo-1.json'}]}]"
      ]
     },
     "execution_count": 63,
     "metadata": {},
     "output_type": "execute_result"
    }
   ],
   "source": [
    "sagemaker.Session().delete_endpoint(xgb_predictor.endpoint_name)\n",
    "\n",
    "bucket_to_delete = boto3.resource('s3').Bucket(bucket_name)\n",
    "bucket_to_delete.objects.all().delete()"
   ]
  },
  {
   "cell_type": "code",
   "execution_count": null,
   "id": "aa52732a-bbb3-4eab-ab3a-c440d5508cf5",
   "metadata": {},
   "outputs": [],
   "source": []
  }
 ],
 "metadata": {
  "kernelspec": {
   "display_name": "conda_python3",
   "language": "python",
   "name": "conda_python3"
  },
  "language_info": {
   "codemirror_mode": {
    "name": "ipython",
    "version": 3
   },
   "file_extension": ".py",
   "mimetype": "text/x-python",
   "name": "python",
   "nbconvert_exporter": "python",
   "pygments_lexer": "ipython3",
   "version": "3.10.14"
  }
 },
 "nbformat": 4,
 "nbformat_minor": 5
}
